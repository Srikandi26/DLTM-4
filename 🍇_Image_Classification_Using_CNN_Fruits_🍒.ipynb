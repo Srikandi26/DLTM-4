{
  "metadata": {
    "kernelspec": {
      "language": "python",
      "display_name": "Python 3",
      "name": "python3"
    },
    "language_info": {
      "pygments_lexer": "ipython3",
      "nbconvert_exporter": "python",
      "version": "3.6.4",
      "file_extension": ".py",
      "codemirror_mode": {
        "name": "ipython",
        "version": 3
      },
      "name": "python",
      "mimetype": "text/x-python"
    },
    "colab": {
      "name": " 🍇 Image Classification Using CNN - Fruits 🍒 ",
      "provenance": [],
      "include_colab_link": true
    }
  },
  "nbformat_minor": 0,
  "nbformat": 4,
  "cells": [
    {
      "cell_type": "markdown",
      "metadata": {
        "id": "view-in-github",
        "colab_type": "text"
      },
      "source": [
        "<a href=\"https://colab.research.google.com/github/Srikandi26/DLTM-4/blob/main/%F0%9F%8D%87_Image_Classification_Using_CNN_Fruits_%F0%9F%8D%92.ipynb\" target=\"_parent\"><img src=\"https://colab.research.google.com/assets/colab-badge.svg\" alt=\"Open In Colab\"/></a>"
      ]
    },
    {
      "source": [
        "\n",
        "# IMPORTANT: RUN THIS CELL IN ORDER TO IMPORT YOUR KAGGLE DATA SOURCES\n",
        "# TO THE CORRECT LOCATION (/kaggle/input) IN YOUR NOTEBOOK,\n",
        "# THEN FEEL FREE TO DELETE THIS CELL.\n",
        "# NOTE: THIS NOTEBOOK ENVIRONMENT DIFFERS FROM KAGGLE'S PYTHON\n",
        "# ENVIRONMENT SO THERE MAY BE MISSING LIBRARIES USED BY YOUR\n",
        "# NOTEBOOK.\n",
        "\n",
        "import os\n",
        "import sys\n",
        "from tempfile import NamedTemporaryFile\n",
        "from urllib.request import urlopen\n",
        "from urllib.parse import unquote, urlparse\n",
        "from urllib.error import HTTPError\n",
        "from zipfile import ZipFile\n",
        "import tarfile\n",
        "import shutil\n",
        "\n",
        "CHUNK_SIZE = 40960\n",
        "DATA_SOURCE_MAPPING = 'fruits:https%3A%2F%2Fstorage.googleapis.com%2Fkaggle-data-sets%2F5857%2F1166105%2Fbundle%2Farchive.zip%3FX-Goog-Algorithm%3DGOOG4-RSA-SHA256%26X-Goog-Credential%3Dgcp-kaggle-com%2540kaggle-161607.iam.gserviceaccount.com%252F20240502%252Fauto%252Fstorage%252Fgoog4_request%26X-Goog-Date%3D20240502T113733Z%26X-Goog-Expires%3D259200%26X-Goog-SignedHeaders%3Dhost%26X-Goog-Signature%3D5122f25b43d8578a9e2a08bec9347ec6868cee35a86c3071cd13c66d4ed48243e829cb239f5703eabf70e770da3bb1668d9ee8bf418678f65b297bb13b0ea82cd00efd41160a21e031268bf8be333e8559f52aa8d24a15acbbf3ca0064768471740751fe1973caea068700b3fb85cc192c6271c35909d12f742f02c32447c5ebc820664eacebd75e720b7de0c6a9d152e7396de009bdf14005702bacdbe399ae5547897510799dd654c8d1308b400645267e25eae02a42a278b5934c3dcd12273d653e0a9c60cbab7b5581d61da774a22b12784c25f567a6a37ed96c5d144234f8fdf5fd8c15949bdcb0b6b1298460d644cce4f23e9273e254f7283bc3ff8e56'\n",
        "\n",
        "KAGGLE_INPUT_PATH='/kaggle/input'\n",
        "KAGGLE_WORKING_PATH='/kaggle/working'\n",
        "KAGGLE_SYMLINK='kaggle'\n",
        "\n",
        "!umount /kaggle/input/ 2> /dev/null\n",
        "shutil.rmtree('/kaggle/input', ignore_errors=True)\n",
        "os.makedirs(KAGGLE_INPUT_PATH, 0o777, exist_ok=True)\n",
        "os.makedirs(KAGGLE_WORKING_PATH, 0o777, exist_ok=True)\n",
        "\n",
        "try:\n",
        "  os.symlink(KAGGLE_INPUT_PATH, os.path.join(\"..\", 'input'), target_is_directory=True)\n",
        "except FileExistsError:\n",
        "  pass\n",
        "try:\n",
        "  os.symlink(KAGGLE_WORKING_PATH, os.path.join(\"..\", 'working'), target_is_directory=True)\n",
        "except FileExistsError:\n",
        "  pass\n",
        "\n",
        "for data_source_mapping in DATA_SOURCE_MAPPING.split(','):\n",
        "    directory, download_url_encoded = data_source_mapping.split(':')\n",
        "    download_url = unquote(download_url_encoded)\n",
        "    filename = urlparse(download_url).path\n",
        "    destination_path = os.path.join(KAGGLE_INPUT_PATH, directory)\n",
        "    try:\n",
        "        with urlopen(download_url) as fileres, NamedTemporaryFile() as tfile:\n",
        "            total_length = fileres.headers['content-length']\n",
        "            print(f'Downloading {directory}, {total_length} bytes compressed')\n",
        "            dl = 0\n",
        "            data = fileres.read(CHUNK_SIZE)\n",
        "            while len(data) > 0:\n",
        "                dl += len(data)\n",
        "                tfile.write(data)\n",
        "                done = int(50 * dl / int(total_length))\n",
        "                sys.stdout.write(f\"\\r[{'=' * done}{' ' * (50-done)}] {dl} bytes downloaded\")\n",
        "                sys.stdout.flush()\n",
        "                data = fileres.read(CHUNK_SIZE)\n",
        "            if filename.endswith('.zip'):\n",
        "              with ZipFile(tfile) as zfile:\n",
        "                zfile.extractall(destination_path)\n",
        "            else:\n",
        "              with tarfile.open(tfile.name) as tarfile:\n",
        "                tarfile.extractall(destination_path)\n",
        "            print(f'\\nDownloaded and uncompressed: {directory}')\n",
        "    except HTTPError as e:\n",
        "        print(f'Failed to load (likely expired) {download_url} to path {destination_path}')\n",
        "        continue\n",
        "    except OSError as e:\n",
        "        print(f'Failed to load {download_url} to path {destination_path}')\n",
        "        continue\n",
        "\n",
        "print('Data source import complete.')\n"
      ],
      "metadata": {
        "id": "BJ_BrJXDhdKy"
      },
      "cell_type": "code",
      "outputs": [],
      "execution_count": null
    },
    {
      "cell_type": "markdown",
      "source": [
        "![fruits.PNG](attachment:6bf9e625-d126-4764-ac18-713f48b086af.PNG)\n",
        "\n",
        "<center><h1 style = \"background:#0C0C0C ;color:white;border:0;font-family:Bahnschrift SemiBold;font-weight:bold\">Introduction  </h1></center>\n",
        "<p style = \"color:black;font-family:Bahnschrift SemiBold;font-weight:bold;font-size:16px\"> Data consists of many fruits.Total number of images: 90483.Training set size: 67692 images (one fruit or vegetable per image).Test set size: 22688 images (one fruit or vegetable per image).Number of classes: 131 (fruits and vegetables).Image size: 100x100 pixels.Different varieties of the same fruit (apple for instance) are stored as belonging to different classes.</p>\n",
        "\n",
        "<p style = \"color:darkred;font-family:Bahnschrift SemiBold;font-weight:bold;font-size:16px\" > What are we going to do in this notebook? </p>\n",
        "\n",
        "<p style = \"color:black;font-family:Bahnschrift SemiBold;font-weight:bold;font-size:16px\">We will first examine the fruits. we will look at it as pictures and numbers of pictures. Next, we will create our CNN model.Then we will evaluate the results of the model we created and examine them on the graph. </p>\n",
        "\n",
        "<p style = \"color:darkred;font-family:Bahnschrift SemiBold;font-weight:bold;font-size:16px\" > So, let's get started. </p>\n",
        "    \n",
        "<h2 style = \"background:#0C0C0C ;color:white;border:0;font-family:Bahnschrift SemiBold;font-weight:bold\">Content :</h2>\n",
        "\n",
        "<ul>\n",
        "    <li style = \"color:gray;font-size:16px\"> <a href = \"#1\" style = \"color:black;font-family:Bahnschrift SemiBold;font-weight:bold\"> Load and Check Data </a> </li>\n",
        "         <li style = \"color:gray;font-size:16px\" ><a href = \"#2\" style = \"color:black;font-family:Bahnschrift SemiBold;font-weight:bold\"> Modeling </a>\n",
        "       <ul>\n",
        "            <li style = \"color:black;font-size:16px\" ><a href = \"#3\" style = \"color:darkred;font-family:Bahnschrift SemiBold;font-weight:bold\"> Create Model </a></li>      \n",
        "           <li style = \"color:black;font-size:16px\" ><a href = \"#4\" style = \"color:darkred;font-family:Bahnschrift SemiBold;font-weight:bold\"> Compile Model </a></li>\n",
        "           <li style = \"color:black;font-size:16px\" ><a href = \"#5\" style = \"color:darkred;font-family:Bahnschrift SemiBold;font-weight:bold\"> Epochs and Batch Size </a></li>\n",
        "           <li style = \"color:black;font-size:16px\" ><a href = \"#6\" style = \"color:darkred;font-family:Bahnschrift SemiBold;font-weight:bold\"> Data Augmentation </a></li>\n",
        "                      <li style = \"color:black;font-size:16px\" ><a href = \"#7\" style = \"color:darkred;font-family:Bahnschrift SemiBold;font-weight:bold\"> Fit the Model </a></li>\n",
        "                      <li style = \"color:black;font-size:16px\" ><a href = \"#8\" style = \"color:darkred;font-family:Bahnschrift SemiBold;font-weight:bold\"> Evaluate the model </a>\n",
        "           <ul>\n",
        "                                       <li style = \"color:grey;font-size:16px\" ><a href = \"#9\" style = \"color:#321414;font-family:Bahnschrift SemiBold;font-weight:bold\"> Loss Chart </a></li>\n",
        "                                       <li style = \"color:grey;font-size:16px\" ><a href = \"#10\" style = \"color:#321414;font-family:Bahnschrift SemiBold;font-weight:bold\"> Accuracy Chart </a></li>\n",
        "                    </ul>                      \n",
        "           </li>\n",
        "                                 <li style = \"color:black;font-size:16px\" ><a href = \"#11\" style = \"color:darkred;font-family:Bahnschrift SemiBold;font-weight:bold\"> CONCLUSION </a></li>\n",
        "       </ul>\n",
        "    </li>\n",
        "</ul>"
      ],
      "metadata": {
        "id": "iV3rwziEhdK7"
      }
    },
    {
      "cell_type": "markdown",
      "source": [
        "<h2 style = \"background-image:url('https://t1.pixers.pics/img-1fb6f67c/posterler-sari-meyveler-desen.jpg?H4sIAAAAAAAAA3VOW46DMAy8TpAAG0xi4AD97REQj9DNlkeUpLvVnn4TVf2s7JHtke0ZeBx-XDXM-gjawW6WZdOwmi1Ovnfamz8tpKxzzPrIbgIxduePdrM7rSgk5QkKOSHrf8d4uI_uLr5CsL4H8FRa84zfYpk9zLuHGisGZJCdopY6wkXxMtiteC0GM98LhU-JpT1uOabI3l4axLxJHoIzu4imzigXxLe9ZfBB8tVDvILLFagDblNKlajhcqWOW26lGpaVxknh1GhmqoiRkNdubLWeqqZe6zKq_ANn9tv0MQEAAA==');background-position: center;text-shadow: 12px 10px 4px #333;color:black;border:0;font-family:Palatino Linotype;font-weight:bold;font-size:25px;text-indent:10px\">Import Library</h2>"
      ],
      "metadata": {
        "id": "ZCo_a1IchdLC"
      }
    },
    {
      "cell_type": "code",
      "source": [
        "# This Python 3 environment comes with many helpful analytics libraries installed\n",
        "# It is defined by the kaggle/python Docker image: https://github.com/kaggle/docker-python\n",
        "# For example, here's several helpful packages to load\n",
        "\n",
        "import numpy as np # linear algebra\n",
        "import pandas as pd # data processing, CSV file I/O (e.g. pd.read_csv)\n",
        "import seaborn as sns\n",
        "import matplotlib.pyplot as plt\n",
        "\n",
        "from glob import glob\n",
        "import cv2\n",
        "\n",
        "# import model\n",
        "from keras.preprocessing.image import ImageDataGenerator, img_to_array, load_img\n",
        "from keras.models import Sequential\n",
        "from keras.layers import Conv2D, MaxPooling2D, Activation, Dropout, Flatten, Dense\n",
        "\n",
        "#import warnings\n",
        "import warnings\n",
        "warnings.filterwarnings('ignore')\n",
        "\n",
        "# Input data files are available in the read-only \"../input/\" directory\n",
        "# For example, running this (by clicking run or pressing Shift+Enter) will list all files under the input directory\n",
        "\n",
        "import os\n",
        "for dirname, _, filenames in os.walk('/kaggle/input'):\n",
        "    for filename in filenames:\n",
        "        print(os.path.join(dirname, filename))\n",
        "\n",
        "# You can write up to 20GB to the current directory (/kaggle/working/) that gets preserved as output when you create a version using \"Save & Run All\"\n",
        "# You can also write temporary files to /kaggle/temp/, but they won't be saved outside of the current session"
      ],
      "metadata": {
        "_uuid": "8f2839f25d086af736a60e9eeb907d3b93b6e0e5",
        "_cell_guid": "b1076dfc-b9ad-4769-8c92-a6c4dae69d19",
        "_kg_hide-output": true,
        "collapsed": true,
        "jupyter": {
          "outputs_hidden": true
        },
        "trusted": true,
        "id": "u0OpQEp_hdLD"
      },
      "execution_count": null,
      "outputs": []
    },
    {
      "cell_type": "markdown",
      "source": [
        "<a id = \"1\" ></a>\n",
        "<h2 style = \"background-image:url('https://t1.pixers.pics/img-1fb6f67c/posterler-sari-meyveler-desen.jpg?H4sIAAAAAAAAA3VOW46DMAy8TpAAG0xi4AD97REQj9DNlkeUpLvVnn4TVf2s7JHtke0ZeBx-XDXM-gjawW6WZdOwmi1Ovnfamz8tpKxzzPrIbgIxduePdrM7rSgk5QkKOSHrf8d4uI_uLr5CsL4H8FRa84zfYpk9zLuHGisGZJCdopY6wkXxMtiteC0GM98LhU-JpT1uOabI3l4axLxJHoIzu4imzigXxLe9ZfBB8tVDvILLFagDblNKlajhcqWOW26lGpaVxknh1GhmqoiRkNdubLWeqqZe6zKq_ANn9tv0MQEAAA==');background-position: center;text-shadow: 12px 10px 4px #333;color:black;border:0;font-family:Palatino Linotype;font-weight:bold;font-size:25px;text-indent:10px\">Load and Check Data</h2>"
      ],
      "metadata": {
        "id": "GpcL7UyJhdLE"
      }
    },
    {
      "cell_type": "markdown",
      "source": [
        "<ul>\n",
        "    <li style = 'color:darkred'> <p style = 'font-weight:bold;color:black'> 🍎 File paths containing your test and training data </p> </li>\n",
        "</ul>"
      ],
      "metadata": {
        "id": "NDsGrf9YhdLF"
      }
    },
    {
      "cell_type": "code",
      "source": [
        "train_dir = '/kaggle/input/fruits/fruits-360/Training/'\n",
        "test_dir =  '/kaggle/input/fruits/fruits-360/Test/'"
      ],
      "metadata": {
        "trusted": true,
        "id": "j4ILVA87hdLF"
      },
      "execution_count": null,
      "outputs": []
    },
    {
      "cell_type": "markdown",
      "source": [
        "<ul>\n",
        "    <li style = 'color:red'> <p style = 'font-weight:bold;color:black'> 🍓 We make fruits more legible so that we can examine them better </p> </li>\n",
        "</ul>"
      ],
      "metadata": {
        "id": "mbqZ4_CHhdLG"
      }
    },
    {
      "cell_type": "code",
      "source": [
        "fruits = []\n",
        "fruits_image = []\n",
        "for i in os.listdir(train_dir):\n",
        "    for image_filename in os.listdir(train_dir + i):\n",
        "        fruits.append(i) # name of the fruit\n",
        "        fruits_image.append(i + '/' + image_filename) # image of the fruit"
      ],
      "metadata": {
        "trusted": true,
        "id": "vki-7iDkhdLH"
      },
      "execution_count": null,
      "outputs": []
    },
    {
      "cell_type": "code",
      "source": [
        "train_fruits = pd.DataFrame(fruits, columns=[\"Fruits\"])\n",
        "train_fruits[\"Fruits Image\"] = fruits_image"
      ],
      "metadata": {
        "trusted": true,
        "id": "MQBRdK3rhdLI"
      },
      "execution_count": null,
      "outputs": []
    },
    {
      "cell_type": "code",
      "source": [
        "train_fruits"
      ],
      "metadata": {
        "trusted": true,
        "id": "xtc2Rlr1hdLJ"
      },
      "execution_count": null,
      "outputs": []
    },
    {
      "cell_type": "markdown",
      "source": [
        "<ul>\n",
        "    <li style = 'color:yellow'> <p style = 'font-weight:bold;color:black'> 🍍 Let's take a look at the 15 most common fruits among these fruits. </p> </li>\n",
        "</ul>"
      ],
      "metadata": {
        "id": "lY5yABImhdLK"
      }
    },
    {
      "cell_type": "code",
      "source": [
        "from collections import Counter\n",
        "newData = Counter(train_fruits[\"Fruits\"])\n",
        "most_fruits = newData.most_common(15)\n",
        "\n",
        "print(\"The 15 most frequently found fruits in the data set and their number\")\n",
        "most_fruits"
      ],
      "metadata": {
        "trusted": true,
        "id": "8Et__NtqhdLK"
      },
      "execution_count": null,
      "outputs": []
    },
    {
      "cell_type": "code",
      "source": [
        "x,y = zip(*most_fruits)\n",
        "x,y = list(x),list(y)"
      ],
      "metadata": {
        "trusted": true,
        "id": "OfgDsPrJhdLL"
      },
      "execution_count": null,
      "outputs": []
    },
    {
      "cell_type": "code",
      "source": [
        "print(\"The 15 most frequently found fruits in the dataset -- > \\n \", x)"
      ],
      "metadata": {
        "trusted": true,
        "id": "tgXE73pOhdLL"
      },
      "execution_count": null,
      "outputs": []
    },
    {
      "cell_type": "markdown",
      "source": [
        "<ul>\n",
        "    <li style = 'color:purple'> <p style = 'font-weight:bold;color:black'> 🍇 Let's see better by visualizing the top 15 most common fruits you found above. </p> </li>\n",
        "</ul>"
      ],
      "metadata": {
        "id": "7z7c2HylhdLL"
      }
    },
    {
      "cell_type": "code",
      "source": [
        "plt.figure(figsize=(15,10))\n",
        "ax= sns.barplot(x=x, y=y, palette=sns.color_palette(\"BuGn_r\", 15))\n",
        "plt.xlabel('Fruits', size = 20)\n",
        "plt.ylabel('Number of Fruits', size = 20 )\n",
        "plt.xticks(rotation = 75)\n",
        "plt.title('The 15 most frequently found fruits in the data set and their number')\n",
        "plt.show()"
      ],
      "metadata": {
        "trusted": true,
        "id": "eaSjDl-VhdLM"
      },
      "execution_count": null,
      "outputs": []
    },
    {
      "cell_type": "markdown",
      "source": [
        "<ul>\n",
        "    <li style = 'color:green'> <p style = 'font-weight:bold;color:black'> 🥑  Let's take a look at the pictures of these fruits. </p> </li>\n",
        "</ul>"
      ],
      "metadata": {
        "id": "NLTk1akBhdLM"
      }
    },
    {
      "cell_type": "code",
      "source": [
        "plt.figure(figsize=(25,16))\n",
        "how_many_fruits = len(x)\n",
        "\n",
        "for i in range(how_many_fruits):\n",
        "    fruits = train_fruits[train_fruits[\"Fruits\"] == x[i]][\"Fruits Image\"].values [1]\n",
        "\n",
        "    plt.subplot(3,5,i+1)\n",
        "    img = load_img(train_dir + fruits)\n",
        "    plt.imshow(img)\n",
        "    plt.title(x[i].upper(), color = \"green\", fontsize = 15 , fontweight = 600)\n",
        "    plt.axis(\"off\")\n",
        "\n",
        "plt.suptitle(\"The 15 Most Abundant Fruits\", fontsize = 25 , color = \"darkred\", fontweight = 'bold')\n",
        "plt.show()"
      ],
      "metadata": {
        "trusted": true,
        "id": "w-RrQWEFhdLM"
      },
      "execution_count": null,
      "outputs": []
    },
    {
      "cell_type": "code",
      "source": [
        "img = load_img(train_dir + \"Cantaloupe 1/r_234_100.jpg\")\n",
        "plt.imshow(img)\n",
        "plt.axis(\"off\")\n",
        "plt.show()"
      ],
      "metadata": {
        "trusted": true,
        "id": "N_ExybQThdLM"
      },
      "execution_count": null,
      "outputs": []
    },
    {
      "cell_type": "markdown",
      "source": [
        "<ul>\n",
        "    <li style = 'color:red'> <p style = 'font-weight:bold;color:black'> 🍉  Let's look at the shape of the pictures we have. </p> </li>\n",
        "    <li style = 'color:yellow'> <p style = 'font-weight:bold;color:black'> 🍐  this is important to us because this will be the input value of our model. </p> </li>\n",
        "</ul>"
      ],
      "metadata": {
        "id": "_Yw_ndJehdLN"
      }
    },
    {
      "cell_type": "code",
      "source": [
        "array_image = img_to_array(img)\n",
        "print(\"Image Shape --> \", array_image.shape)"
      ],
      "metadata": {
        "trusted": true,
        "id": "UwHu_VSAhdLN"
      },
      "execution_count": null,
      "outputs": []
    },
    {
      "cell_type": "markdown",
      "source": [
        "<ul>\n",
        "    <li style = 'color:gray'> <p style = 'font-weight:bold;color:black'> 🍈  And before moving on to our model, let's take a look at how many different fruits we have. </p> </li>\n",
        "    <li style = 'color:orange'> <p style = 'font-weight:bold;color:black'> 🍊  this is also important to us, because this will be the output value of our model. </p> </li>\n",
        "</ul>"
      ],
      "metadata": {
        "id": "sn3Fg0PghdLN"
      }
    },
    {
      "cell_type": "code",
      "source": [
        "fruitCountUnique = glob(train_dir + '/*' )\n",
        "numberOfClass = len(fruitCountUnique)\n",
        "print(\"How many different fruits are there  -->  \",numberOfClass)"
      ],
      "metadata": {
        "trusted": true,
        "id": "H7XDbavRhdLO"
      },
      "execution_count": null,
      "outputs": []
    },
    {
      "cell_type": "markdown",
      "source": [
        "<a id = \"2\" ></a>\n",
        "<h2 style = \"background-image:url('https://t1.pixers.pics/img-1fb6f67c/posterler-sari-meyveler-desen.jpg?H4sIAAAAAAAAA3VOW46DMAy8TpAAG0xi4AD97REQj9DNlkeUpLvVnn4TVf2s7JHtke0ZeBx-XDXM-gjawW6WZdOwmi1Ovnfamz8tpKxzzPrIbgIxduePdrM7rSgk5QkKOSHrf8d4uI_uLr5CsL4H8FRa84zfYpk9zLuHGisGZJCdopY6wkXxMtiteC0GM98LhU-JpT1uOabI3l4axLxJHoIzu4imzigXxLe9ZfBB8tVDvILLFagDblNKlajhcqWOW26lGpaVxknh1GhmqoiRkNdubLWeqqZe6zKq_ANn9tv0MQEAAA==');background-position: center;text-shadow: 12px 10px 4px #333;color:black;border:0;font-family:Palatino Linotype;font-weight:bold;font-size:25px;text-indent:10px\">Modeling </h2>"
      ],
      "metadata": {
        "id": "bSDzeCsOhdLO"
      }
    },
    {
      "cell_type": "markdown",
      "source": [
        "<a id = \"3\" ></a>\n",
        "<ul>\n",
        "    <li style = 'color:purple;font-size:16px'> <p style = 'font-weight:bold'> 🍇 Create Model </p> </li>\n",
        "</ul>"
      ],
      "metadata": {
        "id": "lwpqR6gJhdLP"
      }
    },
    {
      "cell_type": "code",
      "source": [
        "model = Sequential()\n",
        "model.add(Conv2D(32,(3,3),input_shape = array_image.shape))\n",
        "model.add(Activation(\"relu\"))\n",
        "model.add(MaxPooling2D())\n",
        "\n",
        "model.add(Conv2D(32,(3,3)))\n",
        "model.add(Activation(\"relu\"))\n",
        "model.add(MaxPooling2D())\n",
        "\n",
        "model.add(Conv2D(64,(3,3)))\n",
        "model.add(Activation(\"relu\"))\n",
        "model.add(MaxPooling2D())\n",
        "\n",
        "model.add(Flatten())\n",
        "model.add(Dense(1024))\n",
        "model.add(Activation(\"relu\"))\n",
        "model.add(Dropout(0.5))\n",
        "model.add(Dense(numberOfClass)) # output\n",
        "model.add(Activation(\"softmax\"))"
      ],
      "metadata": {
        "trusted": true,
        "id": "34Rai6nZhdLP"
      },
      "execution_count": null,
      "outputs": []
    },
    {
      "cell_type": "markdown",
      "source": [
        "<a id = \"4\" ></a>\n",
        "<ul>\n",
        "    <li style = 'color:darkred;font-size:16px'> <p style = 'font-weight:bold'> 🍒 Compile Model </p> </li>\n",
        "</ul>"
      ],
      "metadata": {
        "id": "6xsvfyCPhdLP"
      }
    },
    {
      "cell_type": "code",
      "source": [
        "model.compile(loss = \"categorical_crossentropy\",\n",
        "              optimizer = \"rmsprop\",\n",
        "              metrics = [\"accuracy\"])"
      ],
      "metadata": {
        "trusted": true,
        "id": "pMd1ZEWBhdLQ"
      },
      "execution_count": null,
      "outputs": []
    },
    {
      "cell_type": "markdown",
      "source": [
        "<a id = \"5\" ></a>\n",
        "<ul>\n",
        "    <li style = 'color:green;font-size:16px'> <p style = 'font-weight:bold'> 🍐 Epochs and Batch Size  </p> </li>\n",
        "</ul>"
      ],
      "metadata": {
        "id": "myG_BMsYhdLQ"
      }
    },
    {
      "cell_type": "code",
      "source": [
        "epochs = 100\n",
        "batch_size = 32"
      ],
      "metadata": {
        "trusted": true,
        "id": "wI4JZ66ThdLQ"
      },
      "execution_count": null,
      "outputs": []
    },
    {
      "cell_type": "markdown",
      "source": [
        "<a id = \"6\" ></a>\n",
        "<ul>\n",
        "    <li style = 'color:red;font-size:16px'> <p style = 'font-weight:bold'> 🍅 Data Augmentation  </p> </li>\n",
        "</ul>"
      ],
      "metadata": {
        "id": "vXHK_Qn9hdLQ"
      }
    },
    {
      "cell_type": "code",
      "source": [
        "print(\"Target Size --> \", array_image.shape[:2])"
      ],
      "metadata": {
        "trusted": true,
        "id": "HqQzBGcphdLR"
      },
      "execution_count": null,
      "outputs": []
    },
    {
      "cell_type": "code",
      "source": [
        "train_datagen = ImageDataGenerator(rescale= 1./255,\n",
        "                   shear_range = 0.3,\n",
        "                   horizontal_flip=True,\n",
        "                   zoom_range = 0.3)\n",
        "\n",
        "test_datagen = ImageDataGenerator(rescale= 1./255)"
      ],
      "metadata": {
        "trusted": true,
        "id": "Q80o6Aw8hdLR"
      },
      "execution_count": null,
      "outputs": []
    },
    {
      "cell_type": "code",
      "source": [
        "train_generator = train_datagen.flow_from_directory(\n",
        "        train_dir,\n",
        "        target_size= array_image.shape[:2],\n",
        "        batch_size = batch_size,\n",
        "        color_mode= \"rgb\",\n",
        "        class_mode= \"categorical\")"
      ],
      "metadata": {
        "trusted": true,
        "id": "_yYMuUqQhdLR"
      },
      "execution_count": null,
      "outputs": []
    },
    {
      "cell_type": "code",
      "source": [
        "test_generator = test_datagen.flow_from_directory(\n",
        "        test_dir,\n",
        "        target_size= array_image.shape[:2],\n",
        "        batch_size = batch_size,\n",
        "        color_mode= \"rgb\",\n",
        "        class_mode= \"categorical\")"
      ],
      "metadata": {
        "trusted": true,
        "id": "T4_YmMcfhdLR"
      },
      "execution_count": null,
      "outputs": []
    },
    {
      "cell_type": "code",
      "source": [
        "for data_batch, labels_batch in train_generator:\n",
        "    print(\"data_batch shape --> \",data_batch.shape)\n",
        "    print(\"labels_batch shape --> \",labels_batch.shape)\n",
        "    break"
      ],
      "metadata": {
        "trusted": true,
        "id": "feOdEx8whdLS"
      },
      "execution_count": null,
      "outputs": []
    },
    {
      "cell_type": "markdown",
      "source": [
        "<a id = \"7\" ></a>\n",
        "<ul>\n",
        "    <li style = 'color:yellow;font-size:16px'> <p style = 'font-weight:bold'> 🍏 Fit the model  </p> </li>\n",
        "</ul>"
      ],
      "metadata": {
        "id": "KMVRM7AVhdLS"
      }
    },
    {
      "cell_type": "code",
      "source": [
        "hist = model.fit_generator(\n",
        "        generator = train_generator,\n",
        "        steps_per_epoch = 1600 // batch_size,\n",
        "        epochs=epochs,\n",
        "        validation_data = test_generator,\n",
        "        validation_steps = 800 // batch_size)"
      ],
      "metadata": {
        "_kg_hide-output": true,
        "trusted": true,
        "id": "g3bgICXVhdLS"
      },
      "execution_count": null,
      "outputs": []
    },
    {
      "cell_type": "markdown",
      "source": [
        "<a id = \"8\" ></a>\n",
        "<h2 style = \"background-image:url('https://t1.pixers.pics/img-1fb6f67c/posterler-sari-meyveler-desen.jpg?H4sIAAAAAAAAA3VOW46DMAy8TpAAG0xi4AD97REQj9DNlkeUpLvVnn4TVf2s7JHtke0ZeBx-XDXM-gjawW6WZdOwmi1Ovnfamz8tpKxzzPrIbgIxduePdrM7rSgk5QkKOSHrf8d4uI_uLr5CsL4H8FRa84zfYpk9zLuHGisGZJCdopY6wkXxMtiteC0GM98LhU-JpT1uOabI3l4axLxJHoIzu4imzigXxLe9ZfBB8tVDvILLFagDblNKlajhcqWOW26lGpaVxknh1GhmqoiRkNdubLWeqqZe6zKq_ANn9tv0MQEAAA==');background-position: center;text-shadow: 12px 10px 4px #333;color:black;border:0;font-family:Palatino Linotype;font-weight:bold;font-size:25px;text-indent:10px\">Evaluate the model</h2>"
      ],
      "metadata": {
        "id": "exTYaNMxhdLb"
      }
    },
    {
      "cell_type": "code",
      "source": [
        "hist.history.keys()"
      ],
      "metadata": {
        "trusted": true,
        "id": "ft1WTbVEhdLb"
      },
      "execution_count": null,
      "outputs": []
    },
    {
      "cell_type": "markdown",
      "source": [
        "<a id = \"9\" ></a>\n",
        "<ul>\n",
        "    <li style = 'color:brown;font-size:16px'> <p style = 'font-weight:bold'> 🌰 Loss Chart  </p> </li>\n",
        "</ul>"
      ],
      "metadata": {
        "id": "wQqNas0BhdLb"
      }
    },
    {
      "cell_type": "code",
      "source": [
        "plt.figure()\n",
        "plt.plot(hist.history[\"loss\"],label = \"Train Loss\", color = \"black\")\n",
        "plt.plot(hist.history[\"val_loss\"],label = \"Validation Loss\", color = \"darkred\", linestyle=\"dashed\",markeredgecolor = \"purple\", markeredgewidth = 2)\n",
        "plt.title(\"Model Loss\", color = \"darkred\", size = 13)\n",
        "plt.legend()\n",
        "plt.show()"
      ],
      "metadata": {
        "trusted": true,
        "id": "Gl03as6thdLb"
      },
      "execution_count": null,
      "outputs": []
    },
    {
      "cell_type": "markdown",
      "source": [
        "<a id = \"10\" ></a>\n",
        "<ul>\n",
        "    <li style = 'color:gray;font-size:16px'> <p style = 'font-weight:bold'> 🍈 Accuracy Chart  </p> </li>\n",
        "</ul>"
      ],
      "metadata": {
        "id": "phQEZnn3hdLc"
      }
    },
    {
      "cell_type": "code",
      "source": [
        "plt.figure()\n",
        "plt.plot(hist.history[\"accuracy\"],label = \"Train Accuracy\", color = \"black\")\n",
        "plt.plot(hist.history[\"val_accuracy\"],label = \"Validation Accuracy\", color = \"darkred\", linestyle=\"dashed\",markeredgecolor = \"purple\", markeredgewidth = 2)\n",
        "plt.title(\"Model Accuracy\", color = \"darkred\", size = 13)\n",
        "plt.legend()\n",
        "plt.show()"
      ],
      "metadata": {
        "trusted": true,
        "id": "gRvx8lYwhdLc"
      },
      "execution_count": null,
      "outputs": []
    },
    {
      "cell_type": "markdown",
      "source": [
        "<a id ='11' ></a>\n",
        "<h4 style = \"background:#0C0C0C ;color:white;border:0;font-family:Bahnschrift SemiBold;font-weight:bold\"> CONCLUSION</h4>\n",
        "\n",
        "<p style = \"color:darkred;font-family:Bahnschrift SemiBold;font-weight:bold\" > I am waiting for them if you have any questions or suggestions. </p>\n",
        "\n",
        "<p style = \"color:black;font-family:Bahnschrift SemiBold;font-weight:bold\" >  Seaborn Tutorial -->  \n",
        "    <a href = \"https://www.kaggle.com/rafetcan/visualization-tutorial-with-seaborn\" >https://www.kaggle.com/rafetcan/visualization-tutorial-with-seaborn</a>\n",
        "</p>\n",
        "<p style = \"color:black;font-family:Bahnschrift SemiBold;font-weight:bold\" >  Plotly Tutorial -->  \n",
        "    <a href = \"https://www.kaggle.com/rafetcan/plotly-tutorial-for-beginners\" >https://www.kaggle.com/rafetcan/plotly-tutorial-for-beginners</a>\n",
        "    </p>\n",
        "<p style = \"color:black;font-family:Bahnschrift SemiBold;font-weight:bold\" >      Convolutional Neural Network (CNN) Tutorial -->  \n",
        "    <a href = \"https://www.kaggle.com/rafetcan/convolutional-neural-network-cnn-tutorial\" >https://www.kaggle.com/rafetcan/convolutional-neural-network-cnn-tutorial</a>\n",
        "</p>"
      ],
      "metadata": {
        "id": "G7f8vT-thdLc"
      }
    }
  ]
}